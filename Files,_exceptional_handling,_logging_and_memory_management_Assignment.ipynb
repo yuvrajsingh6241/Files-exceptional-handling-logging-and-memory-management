{
  "nbformat": 4,
  "nbformat_minor": 0,
  "metadata": {
    "colab": {
      "provenance": []
    },
    "kernelspec": {
      "name": "python3",
      "display_name": "Python 3"
    },
    "language_info": {
      "name": "python"
    }
  },
  "cells": [
    {
      "cell_type": "markdown",
      "source": [
        "# Files, exceptional handling,logging and memory management"
      ],
      "metadata": {
        "id": "_yjuBD6nMgoR"
      }
    },
    {
      "cell_type": "markdown",
      "source": [
        "Theory"
      ],
      "metadata": {
        "id": "azwnGn0nZYAz"
      }
    },
    {
      "cell_type": "markdown",
      "source": [
        "1. What is the difference between interpreted and compiled languages?\n",
        "* Compiled languages: The entire code is translated into machine code (or bytecode) before execution. This process is done by a compiler. The resulting executable file can then be run independently. Examples include C, C++, and Java. Compiled languages generally execute faster because the translation step is done upfront.\n",
        "* Interpreted languages: The code is translated and executed line by line by an interpreter at runtime. There is no separate compilation step that produces an executable file. Examples include Python, JavaScript, and Ruby. Interpreted languages are generally more flexible and easier to debug, as you can run code interactively.\n",
        "\n",
        "2. What is exception handling in Python?\n",
        "* Exception handling is a mechanism in Python that allows you to deal with errors or unexpected events that occur during the execution of your program. Instead of the program crashing when an error occurs, you can use try, except, else, and finally blocks to gracefully handle these exceptions and prevent the program from terminating abruptly.\n",
        "\n",
        "3. What is the purpose of the finally block in exception handling?\n",
        "* The finally block in Python's exception handling is used to define a block of code that will always be executed, regardless of whether an exception occurred in the try block or not. This is useful for cleanup operations, such as closing files or releasing resources, which need to happen even if an error occurred.\n",
        "\n",
        "4. What is logging in Python?\n",
        "* Logging in Python is a way to track events that happen when your software runs. It allows you to record information about the program's execution, including errors, warnings, and informational messages. The built-in logging module provides a flexible framework for sending log messages to various destinations, such as the console, files, or even network sockets. This is invaluable for debugging, monitoring, and understanding the behavior of your applications.\n",
        "\n",
        "5. What is the significance of the __del__ method in Python?\n",
        "* The __del__ method, also known as the destructor, is a special method in Python classes that is called when an object is about to be destroyed (garbage collected). Its primary purpose is to perform cleanup operations when an object is no longer needed, such as releasing external resources or closing connections. However, relying heavily on __del__ is often discouraged in Python due to uncertainties about when and if it will be called, as garbage collection is not strictly deterministic. It's generally preferable to use context managers (with statements) for resource management when possible.\n",
        "\n",
        "6. What is the difference between import and from ... import in Python?\n",
        "* import module_name: This imports the entire module. You then access functions, classes, and variables from the module using the module name followed by a dot (e.g., module_name.function_name()).\n",
        "* from module_name import object_name: This imports a specific object (function, class, variable) from the module directly into your current namespace. You can then use the object name directly without referencing the module name (e.g., object_name()).\n",
        "\n",
        "7.  How can you handle multiple exceptions in Python?\n",
        "* You can handle multiple exceptions in Python using multiple except blocks after a single try block. Each except block can specify a different exception type to catch.\n",
        "* You can also handle multiple exceptions with a single except block by providing a tuple of exception types: except (ExceptionType1, ExceptionType2):.\n",
        "\n",
        "8.  What is the purpose of the with statement when handling files in Python?\n",
        "* The with statement in Python is used for resource management, particularly with files. It ensures that a resource (like a file) is properly closed or released after the code block is finished, even if errors occur. It's a cleaner and safer way to handle file operations compared to explicitly calling close().\n",
        "\n",
        "9. What is the difference between multithreading and multiprocessing?\n",
        "* Multithreading: Involves creating multiple threads within a single process. Threads share the same memory space. This is good for I/O-bound tasks (like reading files or network requests) as threads can switch while waiting for I/O operations to complete.\n",
        "* Multiprocessing: Involves creating multiple independent processes. Each process has its own memory space. This is good for CPU-bound tasks (like heavy calculations) as processes can run in parallel on multiple CPU cores, bypassing the Global Interpreter Lock (GIL) in CPython.\n",
        "\n",
        "10. What are the advantages of using logging in a program?\n",
        "* Debugging: Helps pinpoint errors and understand the flow of execution.\n",
        "* Monitoring: Provides insights into the program's behavior and performance in production.\n",
        "* Auditing: Can record important events for security or compliance.\n",
        "* Separation of Concerns: Keeps informational, warning, and error messages distinct.\n",
        "* Flexibility: Allows configuration of output destinations (console, file, etc.) and message levels.\n",
        "\n",
        "11. What is memory management in Python?\n",
        "* Memory management in Python involves the allocation and deallocation of memory for objects. Python uses a private heap to manage memory. It employs a combination of reference counting and a garbage collector to automatically reclaim memory that is no longer being used by the program.\n",
        "\n",
        "12. What are the basic steps involved in exception handling in Python?\n",
        "* try block: Contains the code that might raise an exception.\n",
        "* except block: Catches specific exceptions that occur in the try block and handles them gracefully.\n",
        "* else block (optional): Contains code that is executed only if no exception occurred in the try block.\n",
        "* finally block (optional): Contains code that is always executed, regardless of whether an exception occurred or not (useful for cleanup).\n",
        "13. Why is memory management important in Python?\n",
        "* Efficient memory management is crucial to prevent memory leaks (where memory is allocated but never released, leading to program slowdowns or crashes) and to ensure that the program uses resources effectively. Python's automatic memory management simplifies development by reducing the burden on the programmer.\n",
        "\n",
        "14. What is the role of try and except in exception handling?\n",
        "* The try block is where you place the code that you anticipate might raise an exception.\n",
        "* The except block is where you define how to handle a specific exception if it occurs within the corresponding try block. It prevents the program from crashing and allows you to execute alternative code.\n",
        "15. How does Python's garbage collection system work?\n",
        "* Python's primary garbage collection mechanism is reference counting. Each object has a counter that tracks the number of references pointing to it. When the reference count drops to zero, the object's memory is immediately deallocated.\n",
        "* Python also has a cyclic garbage collector to deal with reference cycles (where objects reference each other, preventing their reference counts from reaching zero even if they are no longer accessible from the rest of the program).\n",
        "16. What is the purpose of the else block in exception handling?\n",
        "* The else block in a try...except...else...finally structure is executed only if the code within the try block completes without raising any exceptions. It's useful for putting code that should run only when the try block is successful.\n",
        "17. What are the common logging levels in Python?\n",
        "* The common logging levels in Python, in order of increasing severity, are:\n",
        "> * DEBUG: Detailed information, typically only of interest when diagnosing problems.\n",
        "> * INFO: Confirmation that things are working as expected.\n",
        "> * WARNING: An indication that something unexpected happened, or might happen in the near future (e.g. ‘disk space low’). The software is still working as expected.\n",
        "> * ERROR: Due to a more serious problem, the software has not been able to perform some function.\n",
        "> * CRITICAL: A serious error, indicating that the program itself may be unable to continue running.\n",
        "18. What is the difference between os.fork() and multiprocessing in Python?\n",
        "* os.fork() is a low-level function that creates a new process by duplicating the calling process. It's available on Unix-like systems. The child process is an exact copy of the parent at the time of the fork.\n",
        "* The multiprocessing module is a higher-level, platform-independent way to create and manage processes in Python. It provides a more convenient and robust API for parallelism, including features like process pools, queues, and pipes for inter-process communication. It often uses os.fork() internally on systems where it's available, but it abstracts away many of the complexities.\n",
        "19. What is the importance of closing a file in Python?\n",
        "* Closing a file in Python is crucial for several reasons:\n",
        "> * Flushing Buffers: Ensures that any data written to the file but still held in memory buffers is written to the disk.\n",
        "> * Releasing Resources: Frees up system resources associated with the file handle.\n",
        "> * Preventing Data Corruption: Improperly closed files can lead to incomplete or corrupted data.\n",
        "> * Limiting Open Files: Operating systems have limits on the number of files a process can have open simultaneously.\n",
        "20. What is the difference between file.read() and file.readline() in Python?\n",
        "* file.read(size): Reads the entire content of the file as a single string, or if size is specified, reads at most size bytes from the file.\n",
        "* file.readline(size): Reads a single line from the file, including the newline character (\\n) if present. If size is specified, it reads at most size bytes from the line.\n",
        "21. What is the logging module in Python used for?\n",
        "* The logging module in Python provides a standardized way to emit log messages from your programs. It's used for tracking events, debugging, monitoring, and recording the behavior of applications. It offers flexibility in defining message levels, output formats, and destinations.\n",
        "22. What is the os module in Python used for in file handling?\n",
        "* The os module provides a way to interact with the operating system. In the context of file handling, it's used for tasks such as:\n",
        "> * Manipulating paths (os.path).\n",
        "> * Creating and removing directories (os.mkdir(), os.rmdir()).\n",
        "> * Changing the current working directory (os.chdir()).\n",
        "> * Listing directory contents (os.listdir()).\n",
        "> * Renaming and deleting files (os.rename(), os.remove()).\n",
        "> * Getting file status (os.stat()).\n",
        "23. What are the challenges associated with memory management in Python?\n",
        "* While Python's automatic memory management is generally effective, challenges can include:\n",
        "> * Reference Cycles: Can prevent objects from being garbage collected by the reference counter alone, requiring the cyclic garbage collector.\n",
        "> * Memory Leaks (less common but possible): Can occur due to unintended object references that keep objects alive longer than necessary.\n",
        "> * Understanding Garbage Collection: The non-deterministic nature of the cyclic garbage collector can make it difficult to predict exactly when memory will be reclaimed.\n",
        "> * Integration with C Extensions: Managing memory when interacting with C code can require careful handling to avoid issues.\n",
        "24. How do you raise an exception manually in Python?\n",
        "* You can raise an exception manually in Python using the raise statement, followed by an instance of an exception class:\n",
        "\n",
        "\n",
        "\n"
      ],
      "metadata": {
        "id": "8Bgf0DdjNUFZ"
      }
    },
    {
      "cell_type": "code",
      "source": [
        "raise ValueError(\"This is a custom error message\")\n",
        "# You can also re-raise an exception that has been caught in an `except` block by simply using `raise` without any arguments"
      ],
      "metadata": {
        "id": "U8bqmQKOSyK-"
      },
      "execution_count": null,
      "outputs": []
    },
    {
      "cell_type": "markdown",
      "source": [
        "25. Why is it important to use multithreading in certain applications?\n",
        "* Multithreading is important for applications that involve I/O-bound operations because it allows the program to continue executing other tasks while waiting for slow I/O operations (like network requests or file reads) to complete. This improves responsiveness and throughput by preventing the program from blocking"
      ],
      "metadata": {
        "id": "smULvwzATMbu"
      }
    },
    {
      "cell_type": "markdown",
      "source": [
        "# Practical Questions"
      ],
      "metadata": {
        "id": "ESRVvQ57TRVa"
      }
    },
    {
      "cell_type": "code",
      "source": [
        "# 1. How can you open a file for writing in Python and write a string to it?\n",
        "\n",
        "# Open file in write mode and write a string\n",
        "with open(\"example.txt\", \"w\") as file:\n",
        "    file.write(\"Hello, this is a test string!\")\n"
      ],
      "metadata": {
        "id": "uIsjDUGOTcab"
      },
      "execution_count": 5,
      "outputs": []
    },
    {
      "cell_type": "code",
      "source": [
        "# 2.Write a Python program to read the contents of a file and print each line.\n",
        "\n",
        "# Read and print each line of a file\n",
        "with open(\"example.txt\", \"r\") as file:\n",
        "    for line in file:\n",
        "        print(line.strip())"
      ],
      "metadata": {
        "colab": {
          "base_uri": "https://localhost:8080/"
        },
        "id": "0asfYJLeUyWm",
        "outputId": "96ec0264-fb38-44af-bff5-ba122a8f08b9"
      },
      "execution_count": 6,
      "outputs": [
        {
          "output_type": "stream",
          "name": "stdout",
          "text": [
            "Hello, this is a test string!\n"
          ]
        }
      ]
    },
    {
      "cell_type": "code",
      "source": [
        "# 3. How would you handle a case where the file doesn't exist while trying to open it for reading?\n",
        "try:\n",
        "    with open(\"missing.txt\", \"r\") as file:\n",
        "        print(file.read())\n",
        "except FileNotFoundError:\n",
        "    print(\"Error: The file does not exist.\")"
      ],
      "metadata": {
        "colab": {
          "base_uri": "https://localhost:8080/"
        },
        "id": "QaIbmUPSVDLj",
        "outputId": "be3d8991-a5fe-446b-9075-fc865a9e5dd8"
      },
      "execution_count": 7,
      "outputs": [
        {
          "output_type": "stream",
          "name": "stdout",
          "text": [
            "Error: The file does not exist.\n"
          ]
        }
      ]
    },
    {
      "cell_type": "code",
      "source": [
        "# 4 Write a Python script that reads from one file and writes its content to another file.\n",
        "import os\n",
        "\n",
        "source = \"source.txt\"\n",
        "destination = \"destination.txt\"\n",
        "\n",
        "if os.path.exists(source):\n",
        "    with open(source, \"r\") as src:\n",
        "        content = src.read()\n",
        "\n",
        "    with open(destination, \"w\") as dest:\n",
        "        dest.write(content)\n",
        "\n",
        "    print(\"File copied successfully!\")\n",
        "else:\n",
        "    print(f\"Error: '{source}' does not exist.\")\n"
      ],
      "metadata": {
        "colab": {
          "base_uri": "https://localhost:8080/"
        },
        "id": "2HiUFOeSVtbL",
        "outputId": "7d1f9fa3-86be-4e80-8e43-dbaca1caf022"
      },
      "execution_count": 11,
      "outputs": [
        {
          "output_type": "stream",
          "name": "stdout",
          "text": [
            "Error: 'source.txt' does not exist.\n"
          ]
        }
      ]
    },
    {
      "cell_type": "code",
      "source": [
        "# 5. How would you catch and handle division by zero error in Python?\n",
        "try:\n",
        "    result = 10 / 0\n",
        "except ZeroDivisionError:\n",
        "    print(\"Error: Cannot divide by zero.\")"
      ],
      "metadata": {
        "colab": {
          "base_uri": "https://localhost:8080/"
        },
        "id": "_dTqoCoHXG19",
        "outputId": "fbd1c995-58f5-4712-dccf-1ce4572d96cb"
      },
      "execution_count": 12,
      "outputs": [
        {
          "output_type": "stream",
          "name": "stdout",
          "text": [
            "Error: Cannot divide by zero.\n"
          ]
        }
      ]
    },
    {
      "cell_type": "code",
      "source": [
        "# 6. Write a Python program that logs an error message to a log file when a division by zero exception occurs\n",
        "import logging\n",
        "\n",
        "logging.basicConfig(filename=\"errors.log\", level=logging.ERROR)\n",
        "\n",
        "try:\n",
        "    result = 10 / 0\n",
        "except ZeroDivisionError as e:\n",
        "    logging.error(\"Division by zero error occurred: %s\", e)"
      ],
      "metadata": {
        "colab": {
          "base_uri": "https://localhost:8080/"
        },
        "id": "s2c0MlEOXJuZ",
        "outputId": "e33bb145-6a65-4986-d03e-fa6a7d6e2ff7"
      },
      "execution_count": 13,
      "outputs": [
        {
          "output_type": "stream",
          "name": "stderr",
          "text": [
            "ERROR:root:Division by zero error occurred: division by zero\n"
          ]
        }
      ]
    },
    {
      "cell_type": "code",
      "source": [
        "# 7. How do you log information at different levels (INFO, ERROR, WARNING) in Python using the logging module?\n",
        "import logging\n",
        "\n",
        "logging.basicConfig(level=logging.DEBUG)\n",
        "\n",
        "logging.info(\"This is an INFO message\")\n",
        "logging.warning(\"This is a WARNING message\")\n",
        "logging.error(\"This is an ERROR message\")"
      ],
      "metadata": {
        "colab": {
          "base_uri": "https://localhost:8080/"
        },
        "id": "NVLWG-7GXOWV",
        "outputId": "b30b04bc-b7c9-4b28-97a4-37f6c03b8d18"
      },
      "execution_count": 14,
      "outputs": [
        {
          "output_type": "stream",
          "name": "stderr",
          "text": [
            "WARNING:root:This is a WARNING message\n",
            "ERROR:root:This is an ERROR message\n"
          ]
        }
      ]
    },
    {
      "cell_type": "code",
      "source": [
        "# 8. Write a program to handle a file opening error using exception handling\n",
        "import os\n",
        "\n",
        "filename = \"unknown.txt\"\n",
        "\n",
        "if os.path.exists(filename):\n",
        "    with open(filename, \"r\") as file:\n",
        "        print(file.read())\n",
        "else:\n",
        "    print(f\"Error: '{filename}' not found.\")"
      ],
      "metadata": {
        "colab": {
          "base_uri": "https://localhost:8080/"
        },
        "id": "APRpUsTGXSrp",
        "outputId": "febdd36f-e0e7-4be4-f88a-f2e64e9821a2"
      },
      "execution_count": 15,
      "outputs": [
        {
          "output_type": "stream",
          "name": "stdout",
          "text": [
            "Error: 'unknown.txt' not found.\n"
          ]
        }
      ]
    },
    {
      "cell_type": "code",
      "source": [
        "# 9. How can you read a file line by line and store its content in a list in Python?\n",
        "import os\n",
        "\n",
        "filename = \"example.txt\"\n",
        "\n",
        "if os.path.exists(filename):\n",
        "    with open(filename, \"r\") as file:\n",
        "        lines = file.readlines()\n",
        "    print(lines)\n",
        "else:\n",
        "    print(f\"Error: '{filename}' does not exist.\")"
      ],
      "metadata": {
        "colab": {
          "base_uri": "https://localhost:8080/"
        },
        "id": "O0nUZ-UMXZBD",
        "outputId": "fdf827f8-9712-4d45-c737-56cd42cb9b86"
      },
      "execution_count": 16,
      "outputs": [
        {
          "output_type": "stream",
          "name": "stdout",
          "text": [
            "['Hello, this is a test string!']\n"
          ]
        }
      ]
    },
    {
      "cell_type": "code",
      "source": [
        "# 10. How can you append data to an existing file in Python?\n",
        "with open(\"example.txt\", \"a\") as file:\n",
        "    file.write(\"\\nThis is appended text.\")"
      ],
      "metadata": {
        "id": "r4jqaWZvXcDa"
      },
      "execution_count": 17,
      "outputs": []
    },
    {
      "cell_type": "code",
      "source": [
        "# 11. Write a Python program that uses a try-except block to handle an error when attempting to access a dictionary key that doesn't exist\n",
        "my_dict = {\"name\": \"Alice\"}\n",
        "\n",
        "try:\n",
        "    print(my_dict[\"age\"])\n",
        "except KeyError:\n",
        "    print(\"Key does not exist in dictionary.\")"
      ],
      "metadata": {
        "colab": {
          "base_uri": "https://localhost:8080/"
        },
        "id": "B-mquNWbXpyv",
        "outputId": "4ae97fae-f629-44bb-dd06-eac05660949b"
      },
      "execution_count": 18,
      "outputs": [
        {
          "output_type": "stream",
          "name": "stdout",
          "text": [
            "Key does not exist in dictionary.\n"
          ]
        }
      ]
    },
    {
      "cell_type": "code",
      "source": [
        "# 12. Write a program that demonstrates using multiple except blocks to handle different types of exceptions\n",
        "try:\n",
        "    num = int(\"abc\")  # ValueError\n",
        "    result = 10 / 0   # ZeroDivisionError\n",
        "except ValueError:\n",
        "    print(\"Invalid value entered.\")\n",
        "except ZeroDivisionError:\n",
        "    print(\"Division by zero is not allowed.\")"
      ],
      "metadata": {
        "colab": {
          "base_uri": "https://localhost:8080/"
        },
        "id": "HPxK8JFZXvyz",
        "outputId": "d8d32170-e6a7-4248-f7ac-074a9263b032"
      },
      "execution_count": 19,
      "outputs": [
        {
          "output_type": "stream",
          "name": "stdout",
          "text": [
            "Invalid value entered.\n"
          ]
        }
      ]
    },
    {
      "cell_type": "code",
      "source": [
        "# 13. How would you check if a file exists before attempting to read it in Python?\n",
        "import os\n",
        "\n",
        "filename = \"example.txt\"\n",
        "\n",
        "if os.path.exists(filename):\n",
        "    with open(filename, \"r\") as file:\n",
        "        print(file.read())\n",
        "else:\n",
        "    print(f\"Error: '{filename}' does not exist.\")"
      ],
      "metadata": {
        "colab": {
          "base_uri": "https://localhost:8080/"
        },
        "id": "NPRKqLmFXxzu",
        "outputId": "a5b26f29-cea2-4a50-a20c-2b08675d10c9"
      },
      "execution_count": 20,
      "outputs": [
        {
          "output_type": "stream",
          "name": "stdout",
          "text": [
            "Hello, this is a test string!\n",
            "This is appended text.\n"
          ]
        }
      ]
    },
    {
      "cell_type": "code",
      "source": [
        "# 14. Write a program that uses the logging module to log both informational and error messages\n",
        "import logging\n",
        "\n",
        "logging.basicConfig(filename=\"app.log\", level=logging.DEBUG)\n",
        "\n",
        "logging.info(\"Program started successfully\")\n",
        "\n",
        "try:\n",
        "    result = 10 / 0\n",
        "except ZeroDivisionError:\n",
        "    logging.error(\"Division by zero occurred\")"
      ],
      "metadata": {
        "colab": {
          "base_uri": "https://localhost:8080/"
        },
        "id": "JKvx1USmX3Rm",
        "outputId": "8a9bd2ee-e32a-4cca-fc7c-fc1a7ed5ed29"
      },
      "execution_count": 21,
      "outputs": [
        {
          "output_type": "stream",
          "name": "stderr",
          "text": [
            "ERROR:root:Division by zero occurred\n"
          ]
        }
      ]
    },
    {
      "cell_type": "code",
      "source": [
        "# 15. Write a Python program that prints the content of a file and handles the case when the file is empty\n",
        "import os\n",
        "\n",
        "filename = \"example.txt\"\n",
        "\n",
        "if os.path.exists(filename):\n",
        "    if os.path.getsize(filename) > 0:\n",
        "        with open(filename, \"r\") as file:\n",
        "            print(file.read())\n",
        "    else:\n",
        "        print(\"The file is empty.\")\n",
        "else:\n",
        "    print(f\"Error: '{filename}' does not exist.\")"
      ],
      "metadata": {
        "colab": {
          "base_uri": "https://localhost:8080/"
        },
        "id": "SrheOrGsX-k2",
        "outputId": "da59f469-084b-4689-cf6c-1268635de4e6"
      },
      "execution_count": 22,
      "outputs": [
        {
          "output_type": "stream",
          "name": "stdout",
          "text": [
            "Hello, this is a test string!\n",
            "This is appended text.\n"
          ]
        }
      ]
    },
    {
      "cell_type": "code",
      "source": [
        "# 16. Demonstrate how to use memory profiling to check the memory usage of a small program\n",
        "# pip install memory-profiler\n",
        "!pip install memory-profiler\n",
        "# Install memory profiler first: pip install memory-profiler\n",
        "from memory_profiler import profile\n",
        "\n",
        "@profile\n",
        "def my_func():\n",
        "    nums = [i for i in range(10000)]\n",
        "    return sum(nums)\n",
        "\n",
        "my_func()\n"
      ],
      "metadata": {
        "colab": {
          "base_uri": "https://localhost:8080/"
        },
        "id": "AYpmoTmEYA2v",
        "outputId": "1bc40a71-e030-4759-8835-8b54bd1e62fb"
      },
      "execution_count": 25,
      "outputs": [
        {
          "output_type": "stream",
          "name": "stdout",
          "text": [
            "Requirement already satisfied: memory-profiler in /usr/local/lib/python3.12/dist-packages (0.61.0)\n",
            "Requirement already satisfied: psutil in /usr/local/lib/python3.12/dist-packages (from memory-profiler) (5.9.5)\n",
            "ERROR: Could not find file /tmp/ipython-input-2716151684.py\n"
          ]
        },
        {
          "output_type": "execute_result",
          "data": {
            "text/plain": [
              "49995000"
            ]
          },
          "metadata": {},
          "execution_count": 25
        }
      ]
    },
    {
      "cell_type": "code",
      "source": [
        "# 17. Write a Python program to create and write a list of numbers to a file, one number per line\n",
        "numbers = [1, 2, 3, 4, 5]\n",
        "\n",
        "with open(\"numbers.txt\", \"w\") as file:\n",
        "    for num in numbers:\n",
        "        file.write(str(num) + \"\\n\")"
      ],
      "metadata": {
        "id": "h2gtedv7Yjty"
      },
      "execution_count": 26,
      "outputs": []
    },
    {
      "cell_type": "code",
      "source": [
        "# 18. How would you implement a basic logging setup that logs to a file with rotation after 1MB?\n",
        "import logging\n",
        "from logging.handlers import RotatingFileHandler\n",
        "\n",
        "handler = RotatingFileHandler(\"rotating.log\", maxBytes=1_000_000, backupCount=3)\n",
        "logger = logging.getLogger()\n",
        "logger.setLevel(logging.INFO)\n",
        "logger.addHandler(handler)\n",
        "\n",
        "logger.info(\"This is a rotating log example.\")"
      ],
      "metadata": {
        "colab": {
          "base_uri": "https://localhost:8080/"
        },
        "id": "XxsU5lLHYoCZ",
        "outputId": "6a9fe19c-46dc-4303-cf22-915871f1d457"
      },
      "execution_count": 27,
      "outputs": [
        {
          "output_type": "stream",
          "name": "stderr",
          "text": [
            "INFO:root:This is a rotating log example.\n"
          ]
        }
      ]
    },
    {
      "cell_type": "code",
      "source": [
        "# 19. Write a program that handles both IndexError and KeyError using a try-except block\n",
        "my_list = [1, 2, 3]\n",
        "my_dict = {\"a\": 10}\n",
        "\n",
        "try:\n",
        "    print(my_list[5])   # IndexError\n",
        "    print(my_dict[\"b\"]) # KeyError\n",
        "except IndexError:\n",
        "    print(\"List index out of range!\")\n",
        "except KeyError:\n",
        "    print(\"Key not found in dictionary!\")"
      ],
      "metadata": {
        "colab": {
          "base_uri": "https://localhost:8080/"
        },
        "id": "OshPFjrmYvHb",
        "outputId": "63d709b9-a840-4d75-f8fc-947ca2517b67"
      },
      "execution_count": 28,
      "outputs": [
        {
          "output_type": "stream",
          "name": "stdout",
          "text": [
            "List index out of range!\n"
          ]
        }
      ]
    },
    {
      "cell_type": "code",
      "source": [
        "# 20. How would you open a file and read its contents using a context manager in Python?\n",
        "import os\n",
        "\n",
        "filename = \"example.txt\"\n",
        "\n",
        "if os.path.exists(filename):\n",
        "    with open(filename, \"r\") as file:\n",
        "        content = file.read()\n",
        "        print(content)\n",
        "else:\n",
        "    print(f\"Error: '{filename}' does not exist.\")"
      ],
      "metadata": {
        "colab": {
          "base_uri": "https://localhost:8080/"
        },
        "id": "QxMHNPExYzdB",
        "outputId": "4d851e6d-bb6b-4ce3-9802-6b9066568281"
      },
      "execution_count": 29,
      "outputs": [
        {
          "output_type": "stream",
          "name": "stdout",
          "text": [
            "Hello, this is a test string!\n",
            "This is appended text.\n"
          ]
        }
      ]
    },
    {
      "cell_type": "code",
      "source": [
        "# 21. Write a Python program that reads a file and prints the number of occurrences of a specific word\n",
        "import os\n",
        "\n",
        "filename = \"example.txt\"\n",
        "word_to_find = \"Python\"\n",
        "count = 0\n",
        "\n",
        "if os.path.exists(filename):\n",
        "    with open(filename, \"r\") as file:\n",
        "        for line in file:\n",
        "            count += line.count(word_to_find)\n",
        "    print(f\"The word '{word_to_find}' appears {count} times.\")\n",
        "else:\n",
        "    print(f\"Error: '{filename}' does not exist.\")"
      ],
      "metadata": {
        "colab": {
          "base_uri": "https://localhost:8080/"
        },
        "id": "irAAPXqfY2-K",
        "outputId": "c7494611-ff5e-4923-e343-0ca4eba94cac"
      },
      "execution_count": 30,
      "outputs": [
        {
          "output_type": "stream",
          "name": "stdout",
          "text": [
            "The word 'Python' appears 0 times.\n"
          ]
        }
      ]
    },
    {
      "cell_type": "code",
      "source": [
        "# 22. How can you check if a file is empty before attempting to read its contents?\n",
        "import os\n",
        "\n",
        "filename = \"example.txt\"\n",
        "\n",
        "if os.path.exists(filename):\n",
        "    if os.path.getsize(filename) == 0:\n",
        "        print(\"The file is empty.\")\n",
        "    else:\n",
        "        with open(filename, \"r\") as file:\n",
        "            print(file.read())\n",
        "else:\n",
        "    print(f\"Error: '{filename}' does not exist.\")"
      ],
      "metadata": {
        "colab": {
          "base_uri": "https://localhost:8080/"
        },
        "id": "O09HzIwLY6YX",
        "outputId": "5a2865e8-937e-4908-85c9-1fe9a14b1dde"
      },
      "execution_count": 31,
      "outputs": [
        {
          "output_type": "stream",
          "name": "stdout",
          "text": [
            "Hello, this is a test string!\n",
            "This is appended text.\n"
          ]
        }
      ]
    },
    {
      "cell_type": "code",
      "source": [
        "# 23. Write a Python program that writes to a log file when an error occurs during file handling\n",
        "import os\n",
        "import logging\n",
        "\n",
        "logging.basicConfig(filename=\"file_errors.log\", level=logging.ERROR)\n",
        "\n",
        "filename = \"nonexistent.txt\"\n",
        "\n",
        "if os.path.exists(filename):\n",
        "    with open(filename, \"r\") as file:\n",
        "        print(file.read())\n",
        "else:\n",
        "    error_message = f\"Error: '{filename}' not found.\"\n",
        "    print(error_message)\n",
        "    logging.error(error_message)"
      ],
      "metadata": {
        "colab": {
          "base_uri": "https://localhost:8080/"
        },
        "id": "Zjl-aDZMZCVk",
        "outputId": "451f2047-756c-458a-bdcf-94cead531620"
      },
      "execution_count": 32,
      "outputs": [
        {
          "output_type": "stream",
          "name": "stderr",
          "text": [
            "ERROR:root:Error: 'nonexistent.txt' not found.\n"
          ]
        },
        {
          "output_type": "stream",
          "name": "stdout",
          "text": [
            "Error: 'nonexistent.txt' not found.\n"
          ]
        }
      ]
    }
  ]
}